{
  "nbformat": 4,
  "nbformat_minor": 0,
  "metadata": {
    "colab": {
      "provenance": [],
      "collapsed_sections": [],
      "toc_visible": true
    },
    "kernelspec": {
      "name": "python3",
      "display_name": "Python 3"
    },
    "language_info": {
      "name": "python"
    },
    "accelerator": "GPU",
    "gpuClass": "standard"
  },
  "cells": [
    {
      "cell_type": "markdown",
      "source": [
        "  \n",
        "\n",
        "> #### Krithika Devi Chandran (2211570)\n",
        "> #### *Cohort:* CDB22DW022, AI & ML\n",
        "\n"
      ],
      "metadata": {
        "id": "HzMNZgcYqZD5"
      }
    },
    {
      "cell_type": "markdown",
      "source": [
        "This notebook will walk through the basic steps of building two toy models for classifying handwritten numbers.\n",
        "* The first model will be a basic fully-connected neural network.\n",
        "* The second model will be a deeper network that introduces the concepts of convolution and pooling."
      ],
      "metadata": {
        "id": "JxVaXvrDEBFN"
      }
    },
    {
      "cell_type": "markdown",
      "source": [
        "# Task for AI\n",
        "\n",
        "Our goal is to construct and train an artificial nerual network on thousands of images of handwritten digits so that it may successfully identify others when presented. \n",
        "\n",
        "The data that will be incorporated is the **MNIST database** which contains **60,000 images for training** and **10,000 test images**. We will use the `Keras Python API` with `TensorFlow` as the backend."
      ],
      "metadata": {
        "id": "V3clPKe2ENyR"
      }
    },
    {
      "cell_type": "markdown",
      "source": [
        "# Prerequisite Python Modules\n",
        "\n",
        "some software needs to be loaded into the Python environment."
      ],
      "metadata": {
        "id": "J8RUh2PLE16E"
      }
    },
    {
      "cell_type": "code",
      "source": [
        "import numpy as np                    # advanced math library\n",
        "import matplotlib.pyplot as plt       # MATLAB like plotting routines\n",
        "import random                         # for generating random numbers\n",
        "%matplotlib inline\n",
        "\n",
        "from keras.datasets import mnist     # MNIST dataset is included in Keras\n",
        "from keras.models import Sequential  # Model type is used to create models layer-by-layer\n",
        "\n",
        "from keras.layers.core import Dense, Dropout, Activation # Types of layers to be used in our model\n",
        "from keras.utils import np_utils                         # Numpy related tool in Keras API utilities"
      ],
      "metadata": {
        "id": "o73B5H08EMs1"
      },
      "execution_count": null,
      "outputs": []
    },
    {
      "cell_type": "code",
      "source": [
        "# This code below gives all outputs in the cell\n",
        "from IPython.core.interactiveshell import InteractiveShell\n",
        "InteractiveShell.ast_node_interactivity = \"all\""
      ],
      "metadata": {
        "id": "U-CN1Iu5lsSo"
      },
      "execution_count": null,
      "outputs": []
    },
    {
      "cell_type": "markdown",
      "source": [
        "## Loading Training Data\n",
        "\n",
        "The MNIST dataset is conveniently bundled within Keras, and we can easily analyze some of its features in Python."
      ],
      "metadata": {
        "id": "SjA3lUFGH8Yr"
      }
    },
    {
      "cell_type": "code",
      "source": [
        "# The MNIST data is split between 60,000 images (28 x 28 px)\n",
        "# 60,000 training images and 10,000 testing images (28 x 28 px)z\n",
        "(X_train, y_train), (X_test, y_test) =  mnist.load_data()\n",
        "\n",
        "print(\"X_train shape\", X_train.shape)\n",
        "print(\"y_train shape\", y_train.shape)\n",
        "print(\"X_test shape\", X_test.shape)\n",
        "print(\"y_test shape\", y_test.shape)\n"
      ],
      "metadata": {
        "colab": {
          "base_uri": "https://localhost:8080/"
        },
        "id": "-hm5hqv2D9mt",
        "outputId": "bf060d5f-87c6-4785-9e8a-4306727ab635"
      },
      "execution_count": null,
      "outputs": [
        {
          "output_type": "stream",
          "name": "stdout",
          "text": [
            "X_train shape (60000, 28, 28)\n",
            "y_train shape (60000,)\n",
            "X_test shape (10000, 28, 28)\n",
            "y_test shape (10000,)\n"
          ]
        }
      ]
    },
    {
      "cell_type": "markdown",
      "source": [
        "Using matplotlib, we can plot some sample images from the training set directly into this Jupyter Notebook."
      ],
      "metadata": {
        "id": "ARgN2FETJUug"
      }
    },
    {
      "cell_type": "code",
      "source": [
        "plt.rcParams['figure.figsize'] = (9,9)  # Make the figures a bit bigger\n",
        "\n",
        "for i in range(9): # in order to get first nine images\n",
        "  plt.subplot(3,3,i+1) # sub plotting with 3 rows, 3 columns and third argument represents the index of the plot\n",
        "  num = random.randint(0, len(X_train)) # randomly selecting 9 images from 60,000 training images\n",
        "  plt.imshow(X_train[num], cmap='gray', interpolation='none') # getting those 9 images from X_train as gray colormap\n",
        "  # For the Agg(raster graphics -- high quality images using the Anti-Grain Geometry engine), \n",
        "  # ps(vector graphics -- Portable Document Format output), and \n",
        "  # pdf(vector graphics -- PostScript output) backends, interpolation = 'none' works well when a big image is scaled down\n",
        "  plt.title(\"Class {}\".format(y_train[num])) \n",
        "\n",
        "plt.tight_layout()"
      ],
      "metadata": {
        "colab": {
          "base_uri": "https://localhost:8080/",
          "height": 819
        },
        "id": "tkFNTHaxHs1q",
        "outputId": "23926345-edf1-4afb-f64d-da8e5735040f"
      },
      "execution_count": null,
      "outputs": [
        {
          "output_type": "execute_result",
          "data": {
            "text/plain": [
              "<matplotlib.axes._subplots.AxesSubplot at 0x7f156771d190>"
            ]
          },
          "metadata": {},
          "execution_count": 151
        },
        {
          "output_type": "execute_result",
          "data": {
            "text/plain": [
              "<matplotlib.image.AxesImage at 0x7f15603d7c10>"
            ]
          },
          "metadata": {},
          "execution_count": 151
        },
        {
          "output_type": "execute_result",
          "data": {
            "text/plain": [
              "Text(0.5, 1.0, 'Class 1')"
            ]
          },
          "metadata": {},
          "execution_count": 151
        },
        {
          "output_type": "execute_result",
          "data": {
            "text/plain": [
              "<matplotlib.axes._subplots.AxesSubplot at 0x7f1567765c50>"
            ]
          },
          "metadata": {},
          "execution_count": 151
        },
        {
          "output_type": "execute_result",
          "data": {
            "text/plain": [
              "<matplotlib.image.AxesImage at 0x7f15675d6090>"
            ]
          },
          "metadata": {},
          "execution_count": 151
        },
        {
          "output_type": "execute_result",
          "data": {
            "text/plain": [
              "Text(0.5, 1.0, 'Class 5')"
            ]
          },
          "metadata": {},
          "execution_count": 151
        },
        {
          "output_type": "execute_result",
          "data": {
            "text/plain": [
              "<matplotlib.axes._subplots.AxesSubplot at 0x7f156790d9d0>"
            ]
          },
          "metadata": {},
          "execution_count": 151
        },
        {
          "output_type": "execute_result",
          "data": {
            "text/plain": [
              "<matplotlib.image.AxesImage at 0x7f15678f8110>"
            ]
          },
          "metadata": {},
          "execution_count": 151
        },
        {
          "output_type": "execute_result",
          "data": {
            "text/plain": [
              "Text(0.5, 1.0, 'Class 7')"
            ]
          },
          "metadata": {},
          "execution_count": 151
        },
        {
          "output_type": "execute_result",
          "data": {
            "text/plain": [
              "<matplotlib.axes._subplots.AxesSubplot at 0x7f156787b550>"
            ]
          },
          "metadata": {},
          "execution_count": 151
        },
        {
          "output_type": "execute_result",
          "data": {
            "text/plain": [
              "<matplotlib.image.AxesImage at 0x7f1567704ad0>"
            ]
          },
          "metadata": {},
          "execution_count": 151
        },
        {
          "output_type": "execute_result",
          "data": {
            "text/plain": [
              "Text(0.5, 1.0, 'Class 4')"
            ]
          },
          "metadata": {},
          "execution_count": 151
        },
        {
          "output_type": "execute_result",
          "data": {
            "text/plain": [
              "<matplotlib.axes._subplots.AxesSubplot at 0x7f1567755790>"
            ]
          },
          "metadata": {},
          "execution_count": 151
        },
        {
          "output_type": "execute_result",
          "data": {
            "text/plain": [
              "<matplotlib.image.AxesImage at 0x7f1567819150>"
            ]
          },
          "metadata": {},
          "execution_count": 151
        },
        {
          "output_type": "execute_result",
          "data": {
            "text/plain": [
              "Text(0.5, 1.0, 'Class 5')"
            ]
          },
          "metadata": {},
          "execution_count": 151
        },
        {
          "output_type": "execute_result",
          "data": {
            "text/plain": [
              "<matplotlib.axes._subplots.AxesSubplot at 0x7f156768d350>"
            ]
          },
          "metadata": {},
          "execution_count": 151
        },
        {
          "output_type": "execute_result",
          "data": {
            "text/plain": [
              "<matplotlib.image.AxesImage at 0x7f1567a48d90>"
            ]
          },
          "metadata": {},
          "execution_count": 151
        },
        {
          "output_type": "execute_result",
          "data": {
            "text/plain": [
              "Text(0.5, 1.0, 'Class 6')"
            ]
          },
          "metadata": {},
          "execution_count": 151
        },
        {
          "output_type": "execute_result",
          "data": {
            "text/plain": [
              "<matplotlib.axes._subplots.AxesSubplot at 0x7f15678195d0>"
            ]
          },
          "metadata": {},
          "execution_count": 151
        },
        {
          "output_type": "execute_result",
          "data": {
            "text/plain": [
              "<matplotlib.image.AxesImage at 0x7f1567a48350>"
            ]
          },
          "metadata": {},
          "execution_count": 151
        },
        {
          "output_type": "execute_result",
          "data": {
            "text/plain": [
              "Text(0.5, 1.0, 'Class 6')"
            ]
          },
          "metadata": {},
          "execution_count": 151
        },
        {
          "output_type": "execute_result",
          "data": {
            "text/plain": [
              "<matplotlib.axes._subplots.AxesSubplot at 0x7f1567b91810>"
            ]
          },
          "metadata": {},
          "execution_count": 151
        },
        {
          "output_type": "execute_result",
          "data": {
            "text/plain": [
              "<matplotlib.image.AxesImage at 0x7f15664fe550>"
            ]
          },
          "metadata": {},
          "execution_count": 151
        },
        {
          "output_type": "execute_result",
          "data": {
            "text/plain": [
              "Text(0.5, 1.0, 'Class 0')"
            ]
          },
          "metadata": {},
          "execution_count": 151
        },
        {
          "output_type": "execute_result",
          "data": {
            "text/plain": [
              "<matplotlib.axes._subplots.AxesSubplot at 0x7f15679925d0>"
            ]
          },
          "metadata": {},
          "execution_count": 151
        },
        {
          "output_type": "execute_result",
          "data": {
            "text/plain": [
              "<matplotlib.image.AxesImage at 0x7f156791cf10>"
            ]
          },
          "metadata": {},
          "execution_count": 151
        },
        {
          "output_type": "execute_result",
          "data": {
            "text/plain": [
              "Text(0.5, 1.0, 'Class 3')"
            ]
          },
          "metadata": {},
          "execution_count": 151
        },
        {
          "output_type": "display_data",
          "data": {
            "text/plain": [
              "<Figure size 648x648 with 9 Axes>"
            ],
            "image/png": "[encoded data removed]"
          },
          "metadata": {
            "needs_background": "light"
          }
        }
      ]
    },
    {
      "cell_type": "markdown",
      "source": [
        "Each pixel is an 8-bit integer from 0-255. 0 is full black, while 255 is full white. This what we call a single-channel pixel. It's called monochrome.\n",
        "\n",
        "Fun-fact! Your computer screen has three channels for each pixel: red, green, blue. Each of these channels also likely takes an 8-bit integer. 3 channels-- 24 bits total -- 16,777,216 possible colors!"
      ],
      "metadata": {
        "id": "eJxm-EVsLO6x"
      }
    },
    {
      "cell_type": "code",
      "source": [
        "# just a little function for pretty printing a matrix\n",
        "def matprint(mat, fmt=\"g\"):\n",
        "    col_maxes = [max([len((\"{:\"+fmt+\"}\").format(x)) for x in col]) for col in mat.T]\n",
        "    for x in mat:\n",
        "        for i, y in enumerate(x):\n",
        "            print((\"{:\"+str(col_maxes[i])+fmt+\"}\").format(y), end=\"  \")\n",
        "        print(\"\")\n",
        "# now print!        7U8I9O09I8\n",
        "matprint(X_train[num])"
      ],
      "metadata": {
        "colab": {
          "base_uri": "https://localhost:8080/"
        },
        "id": "jpcXCFmCLsWN",
        "outputId": "99353686-f3ee-4a69-cccb-0851d7734c40"
      },
      "execution_count": null,
      "outputs": [
        {
          "output_type": "stream",
          "name": "stdout",
          "text": [
            "0  0  0  0  0  0   0    0    0    0    0    0    0    0    0    0    0    0    0    0    0   0  0  0  0  0  0  0  \n",
            "0  0  0  0  0  0   0    0    0    0    0    0    0    0    0    0    0    0    0    0    0   0  0  0  0  0  0  0  \n",
            "0  0  0  0  0  0   0    0    0    0    0    0    0    0    0    0    0    0    0    0    0   0  0  0  0  0  0  0  \n",
            "0  0  0  0  0  0   0    0    0    0    0    0    0    0    0    0    0    0    0    0    0   0  0  0  0  0  0  0  \n",
            "0  0  0  0  0  0   0    0    0    0    0   17   87  147  208  208  186    5    0    0    0   0  0  0  0  0  0  0  \n",
            "0  0  0  0  0  0   0    0    8   89  172  239  254  226  226  254  254    7    0    0    0   0  0  0  0  0  0  0  \n",
            "0  0  0  0  0  0   0   52  186  254  230  142   31   12   33  254  214    3    0    0    0   0  0  0  0  0  0  0  \n",
            "0  0  0  0  0  0  31  224  254  133   10    0    0    0   21  238  177    3    0    0    0   0  0  0  0  0  0  0  \n",
            "0  0  0  0  0  0  57  138   80   10    0    0    0    0  113  254   49    0    0    0    0   0  0  0  0  0  0  0  \n",
            "0  0  0  0  0  0   0    0    0    0    0    0    0   43  243  149    5    0    0    0    0   0  0  0  0  0  0  0  \n",
            "0  0  0  0  0  0   0    0    0    0    0    0   40  237  244   40    0    0    0    0    0   0  0  0  0  0  0  0  \n",
            "0  0  0  0  0  0   0    0    0    0    1  121  241  254  190   16   10    0    0    0    0   0  0  0  0  0  0  0  \n",
            "0  0  0  0  0  0   0    0    0    0   32  254  254  254  255  232  222  106   13    0    0   0  0  0  0  0  0  0  \n",
            "0  0  0  0  0  0   0    0    0    0    1   32   37   23   23  135  230  254  201   47    0   0  0  0  0  0  0  0  \n",
            "0  0  0  0  0  0   0    0    0    0    0    0    0    0    0    0    0   80  230  236   25   0  0  0  0  0  0  0  \n",
            "0  0  0  0  0  0   0    0    0    0    0    0    0    0    0    0    0    0   95  254  206   0  0  0  0  0  0  0  \n",
            "0  0  0  0  0  0   0    0   53   11    0    0    0    0    0    0    0    0    5  220  251  42  0  0  0  0  0  0  \n",
            "0  0  0  0  0  0   0   16  234   38    0    0    0    0    0    0    0    0    0  164  246   0  0  0  0  0  0  0  \n",
            "0  0  0  0  0  0   0  128  254   38    0    0    0    0    0    0    0    0    0  174  246   0  0  0  0  0  0  0  \n",
            "0  0  0  0  0  0   0  151  254   38    0    0    0    0    0    0    0    0   40  237  204   0  0  0  0  0  0  0  \n",
            "0  0  0  0  0  0   0   15  233  222   40    0    0    0    0    0    0   10  185  231   90   0  0  0  0  0  0  0  \n",
            "0  0  0  0  0  0   0    0  128  254  252  176  109   62    0    6  121  231  240   55    0   0  0  0  0  0  0  0  \n",
            "0  0  0  0  0  0   0    0    7  166  254  254  254  254  209  216  239  171   44    0    0   0  0  0  0  0  0  0  \n",
            "0  0  0  0  0  0   0    0    0    6   23   79  163  247  247  176   59    0    0    0    0   0  0  0  0  0  0  0  \n",
            "0  0  0  0  0  0   0    0    0    0    0    0    0    0    0    0    0    0    0    0    0   0  0  0  0  0  0  0  \n",
            "0  0  0  0  0  0   0    0    0    0    0    0    0    0    0    0    0    0    0    0    0   0  0  0  0  0  0  0  \n",
            "0  0  0  0  0  0   0    0    0    0    0    0    0    0    0    0    0    0    0    0    0   0  0  0  0  0  0  0  \n",
            "0  0  0  0  0  0   0    0    0    0    0    0    0    0    0    0    0    0    0    0    0   0  0  0  0  0  0  0  \n"
          ]
        }
      ]
    },
    {
      "cell_type": "markdown",
      "source": [
        "## Formatting the input data layer \n",
        "Instead of a 28 x 28 matrix, we build our network to accept a 784-length vector.\n",
        "\n",
        "Each image needs to be then reshaped (or flattened) into a vector. We'll also normalize the inputs to be in the range [0-1] rather than [0-255]. Normalizing inputs is generally recommended, so that any additional dimensions (for other network architectures) are of the same scale.\n",
        "\n",
        "    Pooled Feature Map --> Flattened vector"
      ],
      "metadata": {
        "id": "ks3X7zhdMZFK"
      }
    },
    {
      "cell_type": "code",
      "source": [
        "X_train = X_train.reshape(60000, 784)   # reshape 60,000 28 x 28 matrices into 60,000 784-length vectors.\n",
        "X_test = X_test.reshape(10000, 784)     # reshape 10,000 28 x 28 matrices into 10,000 784-length vectors.\n"
      ],
      "metadata": {
        "id": "jbX6RXNSMNNx"
      },
      "execution_count": null,
      "outputs": []
    },
    {
      "cell_type": "markdown",
      "source": [
        "To make computation easier and faster, reducing this pixel values by normalizing it to range from 0 to 1 which is achieved by dividing all the values by 255, since apart from 0 the range is 255."
      ],
      "metadata": {
        "id": "qXv2bFjEKkwl"
      }
    },
    {
      "cell_type": "code",
      "source": [
        "# to normalize, first converting pixel values to float type\n",
        "X_train = X_train.astype('float32')     # Change integers to 32-bit floating point numbers\n",
        "X_test = X_test.astype('float32')\n",
        "\n",
        "X_train /=255   # normalize each value for each pixel for the entire vector for each input\n",
        "X_test /=255\n"
      ],
      "metadata": {
        "id": "YWuCbDcqPB6a"
      },
      "execution_count": null,
      "outputs": []
    },
    {
      "cell_type": "markdown",
      "source": [
        "Printing training and testing shape"
      ],
      "metadata": {
        "id": "xzZ80rZLMfyM"
      }
    },
    {
      "cell_type": "code",
      "source": [
        "print(\"Training matrix shape\", X_train.shape)\n",
        "print(\"Testing matrix shape\", X_test.shape)"
      ],
      "metadata": {
        "colab": {
          "base_uri": "https://localhost:8080/"
        },
        "id": "DdGQFr-MPGzb",
        "outputId": "1483fc95-7e15-4149-f92e-3919702d6431"
      },
      "execution_count": null,
      "outputs": [
        {
          "output_type": "stream",
          "name": "stdout",
          "text": [
            "Training matrix shape (60000, 784)\n",
            "Testing matrix shape (10000, 784)\n"
          ]
        }
      ]
    },
    {
      "cell_type": "markdown",
      "source": [
        "## One-hot encoding"
      ],
      "metadata": {
        "id": "zAx-K9zzpVlW"
      }
    },
    {
      "cell_type": "markdown",
      "source": [
        "`np_utils.to_categorical` is used to convert a class vector (integers) to binary class matrix.\n",
        "\n",
        "The Keras API provides a `to_categorical()` method that can be used to **one-hot encode** *integer* data.\n",
        "\n",
        "The number of classes can be passed to the method as the `nb_classes` parameter, which represents all the possible values of the classes.\n",
        "\n",
        "> Why we need to do the encoding for labels?\n",
        "\n",
        "Encoding categorical labels is a process of converting categorical label into integer format **so that the data with converted categorical values can be provided to the models to give and improve the predictions**."
      ],
      "metadata": {
        "id": "O0pzOMEKPkZc"
      }
    },
    {
      "cell_type": "code",
      "source": [
        "nb_classes = 10 # number of unique digits\n",
        "\n",
        "Y_train = np_utils.to_categorical(y_train, nb_classes)\n",
        "Y_test = np_utils.to_categorical(y_test, nb_classes)"
      ],
      "metadata": {
        "id": "6F9q3d9wPHMr"
      },
      "execution_count": null,
      "outputs": []
    },
    {
      "cell_type": "code",
      "source": [
        "y_train\n",
        "print(\"\\n\",y_train[2])   # before encoding labels"
      ],
      "metadata": {
        "colab": {
          "base_uri": "https://localhost:8080/"
        },
        "id": "dnAeZCWyNdyO",
        "outputId": "9440191f-4ce9-48eb-e6a3-baad50e64974"
      },
      "execution_count": null,
      "outputs": [
        {
          "output_type": "execute_result",
          "data": {
            "text/plain": [
              "array([5, 0, 4, ..., 5, 6, 8], dtype=uint8)"
            ]
          },
          "metadata": {},
          "execution_count": 157
        },
        {
          "output_type": "stream",
          "name": "stdout",
          "text": [
            "\n",
            " 4\n"
          ]
        }
      ]
    },
    {
      "cell_type": "code",
      "source": [
        "Y_train[2]  # after encoding labels"
      ],
      "metadata": {
        "colab": {
          "base_uri": "https://localhost:8080/"
        },
        "id": "zwd3kVMBNQ25",
        "outputId": "0b9012be-9251-4809-d07e-bbcf7abd336b"
      },
      "execution_count": null,
      "outputs": [
        {
          "output_type": "execute_result",
          "data": {
            "text/plain": [
              "array([0., 0., 0., 0., 1., 0., 0., 0., 0., 0.], dtype=float32)"
            ]
          },
          "metadata": {},
          "execution_count": 158
        }
      ]
    },
    {
      "cell_type": "markdown",
      "source": [
        "# Building Multi-layer Perceptron (MLP) Model"
      ],
      "metadata": {
        "id": "mRDpvm0KmPzK"
      }
    },
    {
      "cell_type": "markdown",
      "source": [
        "The `Sequential` model definition takes a list of layers as an argument, specifying the calculation order from the input to the output."
      ],
      "metadata": {
        "id": "gcVFYGtNmHfk"
      }
    },
    {
      "cell_type": "code",
      "source": [
        "# The Sequential model is a linear stack of layers and is very common.\n",
        "\n",
        "model_1 = Sequential()"
      ],
      "metadata": {
        "id": "u1l0Dwz9QK1h"
      },
      "execution_count": null,
      "outputs": []
    },
    {
      "cell_type": "markdown",
      "source": [
        "### The first hidden layer\n",
        "\n",
        "In this first layer, \n",
        "* 512 neurons is added with 784 input shape that was created.\n",
        "* `Relu`activation function is added into this layer.\n",
        "> An activation function is a function that is added into an artificial neural network in order to help the network learn complex patterns in the data. The main advantage of using the ReLU function over other activation functions is that it does not activate all the neurons at the same time.\n",
        "\n",
        "    > This means that the neurons will only be deactivated if the output of the linear transformation is less than 0. That is, If you look at the ReLU function if the input is negative it will convert it to zero and the neuron does not get activated.\n",
        "\n",
        "* Using 20% (0.2) Dropout, inorder to prevent overfitting. \n",
        "> It turns off the contribution of randomly selected 20% neurons which sets input units to 0 that is ignored during training.\n",
        "\n",
        "\n",
        "\n",
        "\n",
        "\n"
      ],
      "metadata": {
        "id": "ySVzhQa9QsIG"
      }
    },
    {
      "cell_type": "code",
      "source": [
        "# The first hidden layer is a set of 512 nodes (artificial neurons).\n",
        "# Each node will receive an element from each input vector and apply some weight and bias to it.\n",
        "\n",
        "model_1.add(Dense(512, input_shape=(784,))) #(784,) is not a typo -- that represents a 784 length vector!"
      ],
      "metadata": {
        "id": "kg2lBVTvQrbS"
      },
      "execution_count": null,
      "outputs": []
    },
    {
      "cell_type": "code",
      "source": [
        "# An \"activation\" is a non-linear function applied to the output of the layer above.\n",
        "# It checks the new value of the node, and decides whether that artifical neuron has fired.\n",
        "# The Rectified Linear Unit (ReLU) converts all negative inputs to nodes in the next layer to be zero.\n",
        "# Those inputs are then not considered to be fired.\n",
        "# Positive values of a node are unchanged.\n",
        "\n",
        "model_1.add(Activation('relu'))"
      ],
      "metadata": {
        "id": "zSUH1k9ORTEs"
      },
      "execution_count": null,
      "outputs": []
    },
    {
      "cell_type": "code",
      "source": [
        "# Dropout zeroes a selection of random outputs (i.e., disables their activation)\n",
        "# Dropout helps protect the model from memorizing or \"Overfitting\" the training data.\n",
        "# this randomly turning off some of the neurons so that learning won't get memorized.\n",
        "model_1.add(Dropout(0.2))   # normal Dropout range be 0.1 to 0.5"
      ],
      "metadata": {
        "id": "3MDDfBTFRkTZ"
      },
      "execution_count": null,
      "outputs": []
    },
    {
      "cell_type": "markdown",
      "source": [
        "### The second hidden layer\n",
        "\n",
        "In this second layer,\n",
        "\n",
        "* 512 neurons is added from output of first 512-neuron layer.\n",
        "* `Relu` activation function is added.\n",
        "* `20% Dropout` is added."
      ],
      "metadata": {
        "id": "aznQXvO4TwfP"
      }
    },
    {
      "cell_type": "code",
      "source": [
        "# The second hidden layer appears identical to our first layer.\n",
        "# However, instead of each of the 512-node receiving 784-inputs from the input image data,\n",
        "# they receive 512 inputs from the output of the first 512-node layer.\n",
        "\n",
        "model_1.add(Dense(512))\n",
        "model_1.add(Activation('relu'))\n",
        "model_1.add(Dropout(0.2))"
      ],
      "metadata": {
        "id": "nLZ5FlmoTygs"
      },
      "execution_count": null,
      "outputs": []
    },
    {
      "cell_type": "markdown",
      "source": [
        "### The Final Output layer\n",
        "\n",
        "In this final layer,\n",
        "* `10 neurons` is added, since we're having 10 category of numbers from `0 - 9`.\n",
        "* `softmax` activation function is added.\n",
        "> The softmax function handles multi-class classificatin problems, which is also a type of sigmoid function that helps to handle binary classification. **Softmax is very useful to predict the probabilities of each classes.**\n",
        "\n",
        "\n"
      ],
      "metadata": {
        "id": "qmLcUEyT2EC5"
      }
    },
    {
      "cell_type": "code",
      "source": [
        "# The final layer of 10 neurons in fully-connected to the previous 512-node layer.\n",
        "# The final layer of a FCN should be equal to the number of desired classes (10 in this case).\n",
        "\n",
        "model_1.add(Dense(10))"
      ],
      "metadata": {
        "id": "dXm1LjPQ2KOk"
      },
      "execution_count": null,
      "outputs": []
    },
    {
      "cell_type": "code",
      "source": [
        "# The \"softmax\" activation represents a probability distribution\n",
        "# over K different possible outcomes.\n",
        "# Its values are all non-negative and sum to 1.\n",
        "model_1.add(Activation('softmax'))"
      ],
      "metadata": {
        "id": "BlBSENsIUvsa"
      },
      "execution_count": null,
      "outputs": []
    },
    {
      "cell_type": "markdown",
      "source": [
        "## Summary of the MLP model\n"
      ],
      "metadata": {
        "id": "t2T8uKWFV0SE"
      }
    },
    {
      "cell_type": "code",
      "source": [
        "# Summarize the built model\n",
        "\n",
        "model_1.summary()"
      ],
      "metadata": {
        "colab": {
          "base_uri": "https://localhost:8080/"
        },
        "id": "sQSYtSmHVQTj",
        "outputId": "f00010e3-4cbf-4103-e874-58ddca2531bc"
      },
      "execution_count": null,
      "outputs": [
        {
          "output_type": "stream",
          "name": "stdout",
          "text": [
            "Model: \"sequential_6\"\n",
            "_________________________________________________________________\n",
            " Layer (type)                Output Shape              Param #   \n",
            "=================================================================\n",
            " dense_16 (Dense)            (None, 512)               401920    \n",
            "                                                                 \n",
            " activation_24 (Activation)  (None, 512)               0         \n",
            "                                                                 \n",
            " dropout_10 (Dropout)        (None, 512)               0         \n",
            "                                                                 \n",
            " dense_17 (Dense)            (None, 512)               262656    \n",
            "                                                                 \n",
            " activation_25 (Activation)  (None, 512)               0         \n",
            "                                                                 \n",
            " dropout_11 (Dropout)        (None, 512)               0         \n",
            "                                                                 \n",
            " dense_18 (Dense)            (None, 10)                5130      \n",
            "                                                                 \n",
            " activation_26 (Activation)  (None, 10)                0         \n",
            "                                                                 \n",
            "=================================================================\n",
            "Total params: 669,706\n",
            "Trainable params: 669,706\n",
            "Non-trainable params: 0\n",
            "_________________________________________________________________\n"
          ]
        }
      ]
    },
    {
      "cell_type": "markdown",
      "source": [
        "## Total params, Trainable params & Non-trainable params."
      ],
      "metadata": {
        "id": "v2dKemJrsGOz"
      }
    },
    {
      "cell_type": "markdown",
      "source": [
        "> What are trainable parameters and non-trainable parameters in this summary?\n",
        "\n",
        "For model summary, we can see at the bottom of summary there are 3 parameters.\n",
        "* ***Total params***\n",
        "\n",
        " **Total params** is the sum of **Trainable params** and **Non-trainable params**\n",
        "\n",
        "* ***Trainable params***\n",
        "\n",
        " Trainable parameters are those which value is adjusted/modified during training as per their gradient.\n",
        " \n",
        " **Note: Weights and Bias are the trainable parameters**\n",
        "\n",
        "* ***Non-trainable params***\n",
        "\n",
        "  Non trainable parameters are those which value is not optimized during the training as per their gradient."
      ],
      "metadata": {
        "id": "0zKVH4Q7EHcF"
      }
    },
    {
      "cell_type": "markdown",
      "source": [
        "Mathematical Calculation for **first dense layer** parameters:\n",
        "\n",
        "> * Input layer has **784 features**.\n",
        "> * First hidden layer has **512 nodes (512 neurons).**\n",
        "> * **Weight** Matrix for input layer and first hidden layer has dimension = **784 x 512** \n",
        "> * Number of **trainable weights** for the first layer  = **401408**\n",
        "> * Number of **bias** for first hidden layer = Number of Nodes in first hidden layer = **512**\n",
        "> * **Total Trainable parameters for first dense layer = 401408 + 512 = 401920**\n"
      ],
      "metadata": {
        "id": "YnRx_lFjF3Oe"
      }
    },
    {
      "cell_type": "markdown",
      "source": [
        "Mathematical Calculation for **second dense layer** parameters:\n",
        "\n",
        "> * Number of **input nodes** for second hidden layer = Number of nodes in first hidden layer = **512**\n",
        "> * Number of **nodes** in second hidden layer = 512\n",
        "> * **Weight** matrix dimension = **Number of nodes in first hidden layer * Number of nodes in second hidden layer = 512 * 512 = 262144**\n",
        "> * Number of **bias** = Number of nodes in the second hidden layer = **512**\n",
        "> * **Total Trainable parameters for second dense layer = 262144 + 512 = 262656**"
      ],
      "metadata": {
        "id": "Ht3wKCVaJXjw"
      }
    },
    {
      "cell_type": "markdown",
      "source": [
        "Mathematical Calculation for **third (final output) dense layer** parameters:\n",
        "\n",
        "> * Number of **input nodes** for final hidden layer = Number of nodes in second hidden layer = **512**\n",
        "> * Number of **nodes** in this final output layer = **10**\n",
        "> * Number of **weights** for this layer = **512*10 = 5120**\n",
        "> * Number of **bias** for this layer = Number of nodes in the this layer = **10**\n",
        "> * **Total Trainable parameters for this final output layer = 5120 + 10 = 5130** "
      ],
      "metadata": {
        "id": "1YUkH1zeLSbn"
      }
    },
    {
      "cell_type": "markdown",
      "source": [
        "**Non-trainable parameters does not exist in this model since every input is optimized.** Therefore, \n",
        "      \n",
        "      Total parameters = Trainable parameters + Non-trainable parameters = (401920 + 262656 + 5130) + 0 = 669706"
      ],
      "metadata": {
        "id": "nah1nVuONCSF"
      }
    },
    {
      "cell_type": "markdown",
      "source": [
        "## Compiling the model\n",
        "\n",
        "Keras is built on top of Theano and TensorFlow. Both packages allow you to define a computation graph in Python, which then compiles and runs efficiently on the CPU or GPU without the overhead of the Python interpreter.\n",
        "\n",
        "When compiing a model, Keras asks you to specify your **loss function** and your **optimizer**. The loss function we'll use here is called categorical cross-entropy, and is a loss function well-suited to comparing two probability distributions.\n",
        "\n",
        "Our predictions are probability distributions across the ten different digits (e.g. \"we're 80% confident this image is a 3, 10% sure it's an 8, 5% it's a 2, etc.\"), and the target is a probability distribution with 100% for the correct category, and 0 for everything else. The cross-entropy is a measure of how different your predicted distribution is from the target distribution. [https://en.wikipedia.org/wiki/Cross_entropy]\n",
        "\n",
        "The optimizer helps determine how quickly the model learns through **gradient descent**. The rate at which descends a gradient is called the **learning rate**.\n",
        "\n",
        "So are smaller learning rates better? Not quite! It's important for an optimizer not to get stuck in local minima while neglecting the global minimum of the loss function. Sometimes that means trying a larger learning rate to jump out of a local minimum."
      ],
      "metadata": {
        "id": "b-ux3HbUWOiu"
      }
    },
    {
      "cell_type": "markdown",
      "source": [
        "Before fitting, the model has to be compiled. The difference between the actual output and desired output is calculated using the **loss function**, and the **optimizer function** directs how the weights should be adjusted.\n",
        "\n",
        "When compiled for training, the model is given:\n",
        "\n",
        "* **Loss function** - (to measure error) A way of measuring how far off predictions are from the desired outcome. (The measured difference is called the \"loss\")\n",
        "\n",
        "[ https://peltarion.com/knowledge-center/modeling-view/build-an-ai-model/loss-functions/categorical-crossentropy ]\n",
        "\n",
        "The below model is compiled by `categorical_crossentropy` losses which is used in multi-class classification tasks. The model uses the categorical crossentropy to learn to give a high probability to the correct digit and a low probability to the other digits.\n",
        "\n",
        "Since **softmax** activation function is used, it is only recommended to use the **categorical_crossentropy** loss function.\n",
        "\n",
        "* **Optimizer function** - A way of adjusting internal values in order to reduce the loss.\n",
        "\n",
        "The below model is compiled by `Adam` Optimization which is a stochastic gradient descent method that is based on adaptive estimation of first-order and second-order moments.\n",
        "\n",
        "**Learning Rate** used here for Adam Optimizer is `0.001 (default)` which determines how fast or slow we will move towards the optimal weights.\n",
        "\n",
        "    *  If the learning rate is very large we will skip the optimal solution. \n",
        "\n",
        "    * If the learning rate is too small we will need too many iterations to converge to the best values.\n",
        "\n",
        "\n",
        "* **Metrics** -  `accuracy` metrics is used here."
      ],
      "metadata": {
        "id": "6mSd98eAPDdi"
      }
    },
    {
      "cell_type": "code",
      "source": [
        "# Let's use the Adam optimizer for learning\n",
        "model_1.compile(loss = 'categorical_crossentropy',\n",
        "              optimizer = 'adam', metrics=['accuracy'])"
      ],
      "metadata": {
        "id": "iBDFm8jpVZ0P"
      },
      "execution_count": null,
      "outputs": []
    },
    {
      "cell_type": "markdown",
      "source": [
        "## Train the first model!\n",
        "\n",
        "The batch size determines over how much data per step is used to compute the loss function, gradients, and back propagation. Large batch sizes allow the network to complete it's training faster; however, there are other factors beyond training speed to consider.\n",
        "\n",
        "Too large of a batch size smoothes the local minima of the loss function, causing the optimizer to settle in one because it thinks it found the global minimum.\n",
        "\n",
        "Too small of a batch size creates a very noisy loss function, and the optimizer may never find the global minimum.\n",
        "\n",
        "So a good batch size may take some trial and error to find!\n",
        "\n",
        "Train the model by calling the `fit` method."
      ],
      "metadata": {
        "id": "yIpsgaw0ZAS5"
      }
    },
    {
      "cell_type": "markdown",
      "source": [
        "The cycle of calculate, compare, adjust is controlled by the `fit` method. \n",
        "\n",
        "* The first argument is the *inputs*, the second argument is the desired *outputs*. \n",
        "* The `batch_size` argument defines the number of samples we use in one epoch to train a neural network. The batch size is `256`\n",
        "  > Batch size is one of the most important hyperparameters to tune in modern deep learning systems. Choosing batch as 32/64/128/256/512 samples is advisable. Batch size controls the accuracy of the estimate of the error gradient when training neural networks.\n",
        "\n",
        "  > It is generally accepted that there is a sweet spot for batch size between one and entire training dataset that will provide the best generalization and hene the higher accuracies are achieved.\n",
        "* The `epochs` argument specifies how many times this cycle should be run. Here, epochs is setted as `5`, which means 5 times the learning algorithm will go through the entire training dataset.\n",
        "\n",
        "  > The number of epochs is a hyperparameter that defines the number times that the learning algorithm will work through the entire training dataset.\n",
        "\n",
        "\n",
        "* The `verbose` argument controls how much output the method produces.\n",
        "\n",
        "  verbose: Integer. 0, 1, or 2. Verbosity mode.\n",
        "  > * Verbose=0 (silent) [Verbose = False]\n",
        "  > * Verbose=1 (progress bar) [Verbose = True]\n",
        "  > * Verbose=2 (one line per epoch)\n"
      ],
      "metadata": {
        "id": "RQvMGLXFWePa"
      }
    },
    {
      "cell_type": "code",
      "source": [
        "model_1.fit(X_train, Y_train, \n",
        "          batch_size = 256, epochs = 5,\n",
        "          verbose = 1)"
      ],
      "metadata": {
        "colab": {
          "base_uri": "https://localhost:8080/"
        },
        "id": "uk7BqtDQYyzt",
        "outputId": "f6b8c62e-db27-4e22-d924-e49d839515db"
      },
      "execution_count": null,
      "outputs": [
        {
          "output_type": "stream",
          "name": "stdout",
          "text": [
            "Epoch 1/5\n",
            "235/235 [==============================] - 6s 25ms/step - loss: 0.2957 - accuracy: 0.9143\n",
            "Epoch 2/5\n",
            "235/235 [==============================] - 6s 25ms/step - loss: 0.1102 - accuracy: 0.9666\n",
            "Epoch 3/5\n",
            "235/235 [==============================] - 6s 25ms/step - loss: 0.0766 - accuracy: 0.9755\n",
            "Epoch 4/5\n",
            "235/235 [==============================] - 6s 25ms/step - loss: 0.0579 - accuracy: 0.9815\n",
            "Epoch 5/5\n",
            "235/235 [==============================] - 6s 25ms/step - loss: 0.0462 - accuracy: 0.9848\n"
          ]
        },
        {
          "output_type": "execute_result",
          "data": {
            "text/plain": [
              "<keras.callbacks.History at 0x7f1567cb0a50>"
            ]
          },
          "metadata": {},
          "execution_count": 168
        }
      ]
    },
    {
      "cell_type": "markdown",
      "source": [
        "## Evaluate Model's Accuracy on Test Data\n",
        "\n",
        "Getting model's loss and accuracy score using `evaluate` on test images that is not trained by the model."
      ],
      "metadata": {
        "id": "MQej8qAP6JV6"
      }
    },
    {
      "cell_type": "code",
      "source": [
        "score = model_1.evaluate(X_test, Y_test)\n",
        "print('Test loss: ', score[0])\n",
        "print('Test accuracy: ', score[1])"
      ],
      "metadata": {
        "id": "Ugo01XTiZQ07",
        "colab": {
          "base_uri": "https://localhost:8080/"
        },
        "outputId": "d5799827-0225-423e-805f-279bc213a66f"
      },
      "execution_count": null,
      "outputs": [
        {
          "output_type": "stream",
          "name": "stdout",
          "text": [
            "313/313 [==============================] - 1s 3ms/step - loss: 0.0612 - accuracy: 0.9821\n",
            "Test loss:  0.0611955001950264\n",
            "Test accuracy:  0.9821000099182129\n"
          ]
        }
      ]
    },
    {
      "cell_type": "markdown",
      "source": [
        "## Inspecting the output\n",
        "\n",
        "It's always a good idea to inspect the output and make sure everything looks sane. Here we'll look at some examples it gets right, and some examples it gets wrong."
      ],
      "metadata": {
        "id": "Amp1J0hgjfBy"
      }
    },
    {
      "cell_type": "code",
      "source": [
        "# The predict_classes function \n",
        "# according to the trained classifier for each input example\n",
        "predict_x = model_1.predict(X_test)\n",
        "predict_classes = np.argmax(predict_x, axis = 1) # returns the indices of the max element of the array in axis = 1\n",
        "\n",
        "# Check with items we got right / wrong\n",
        "correct_indices = np.nonzero(predict_classes == y_test)[0] \n",
        "# returns a tuple of arrays, contanining the indices of the non-zero elements\n",
        "\n",
        "incorrect_indices = np.nonzero(predict_classes != y_test)[0]\n"
      ],
      "metadata": {
        "id": "SXAEBAd7Z3nj",
        "colab": {
          "base_uri": "https://localhost:8080/"
        },
        "outputId": "144bfbd2-9444-498f-fd8d-9a9df1372c6f"
      },
      "execution_count": null,
      "outputs": [
        {
          "output_type": "stream",
          "name": "stdout",
          "text": [
            "313/313 [==============================] - 1s 3ms/step\n"
          ]
        }
      ]
    },
    {
      "cell_type": "code",
      "source": [
        "correct_indices"
      ],
      "metadata": {
        "colab": {
          "base_uri": "https://localhost:8080/"
        },
        "id": "UBjtFGDwkIUQ",
        "outputId": "e8bc2dd5-b56c-4922-f78b-286d6e32fca8"
      },
      "execution_count": null,
      "outputs": [
        {
          "output_type": "execute_result",
          "data": {
            "text/plain": [
              "array([   0,    1,    2, ..., 9997, 9998, 9999])"
            ]
          },
          "metadata": {},
          "execution_count": 171
        }
      ]
    },
    {
      "cell_type": "code",
      "source": [
        "incorrect_indices"
      ],
      "metadata": {
        "colab": {
          "base_uri": "https://localhost:8080/"
        },
        "id": "VKO8V_mLkKhm",
        "outputId": "880db58e-214a-4cab-95fc-406e359fae30"
      },
      "execution_count": null,
      "outputs": [
        {
          "output_type": "execute_result",
          "data": {
            "text/plain": [
              "array([ 247,  259,  290,  321,  340,  381,  445,  449,  495,  582,  646,\n",
              "        691,  740,  844,  877,  900,  938,  947,  951,  965, 1014, 1039,\n",
              "       1044, 1112, 1182, 1226, 1242, 1247, 1260, 1299, 1319, 1328, 1337,\n",
              "       1393, 1395, 1464, 1522, 1530, 1549, 1681, 1686, 1722, 1754, 1800,\n",
              "       1813, 1878, 1901, 1941, 2004, 2016, 2024, 2053, 2070, 2098, 2109,\n",
              "       2118, 2135, 2182, 2293, 2387, 2408, 2433, 2454, 2488, 2598, 2607,\n",
              "       2648, 2654, 2730, 2743, 2810, 2877, 2921, 2927, 2939, 2953, 2995,\n",
              "       3073, 3117, 3289, 3503, 3520, 3558, 3559, 3567, 3597, 3776, 3780,\n",
              "       3808, 3811, 3853, 3869, 3906, 3941, 3943, 3985, 4065, 4075, 4078,\n",
              "       4140, 4176, 4199, 4224, 4248, 4269, 4360, 4437, 4497, 4536, 4551,\n",
              "       4571, 4731, 4807, 4814, 4823, 4879, 4880, 4956, 5331, 5457, 5600,\n",
              "       5634, 5642, 5734, 5887, 5926, 5936, 5937, 5955, 5973, 6011, 6023,\n",
              "       6045, 6059, 6166, 6505, 6555, 6571, 6574, 6576, 6597, 6625, 6641,\n",
              "       6651, 6755, 6783, 6945, 7216, 7434, 7713, 7921, 7990, 8062, 8094,\n",
              "       8246, 8277, 8311, 8325, 8408, 8522, 8527, 9009, 9015, 9019, 9024,\n",
              "       9280, 9587, 9634, 9664, 9679, 9729, 9745, 9768, 9770, 9779, 9792,\n",
              "       9808, 9839, 9944])"
            ]
          },
          "metadata": {},
          "execution_count": 172
        }
      ]
    },
    {
      "cell_type": "code",
      "source": [
        "plt.figure()\n",
        "for i, correct in enumerate(correct_indices[:9]):\n",
        "  plt.subplot(3,3,i+1)\n",
        "  plt.imshow(X_test[correct].reshape(28,28), cmap='gray', interpolation='none')\n",
        "  plt.title(\"Predicted {}, Class {}\".format(predict_classes[correct], y_test[correct]))\n",
        "    \n",
        "plt.tight_layout()\n",
        "plt.show();\n",
        "\n",
        "plt.figure()\n",
        "for i, incorrect in enumerate(incorrect_indices[:9]):\n",
        "    plt.subplot(3,3,i+1)\n",
        "    plt.imshow(X_test[incorrect].reshape(28,28), cmap='gray', interpolation='none')\n",
        "    plt.title(\"Predicted {}, Class {}\".format(predict_classes[incorrect], y_test[incorrect]))\n",
        "    \n",
        "plt.tight_layout()\n",
        "plt.show();"
      ],
      "metadata": {
        "colab": {
          "base_uri": "https://localhost:8080/",
          "height": 1000
        },
        "id": "upK0ccgg7Xpk",
        "outputId": "135fbc00-32c4-4b4e-e1db-a1b2c0455b93"
      },
      "execution_count": null,
      "outputs": [
        {
          "output_type": "display_data",
          "data": {
            "text/plain": [
              "<Figure size 648x648 with 9 Axes>"
            ],
            "image/png": "[encoded data removed]"
          },
          "metadata": {
            "needs_background": "light"
          }
        },
        {
          "output_type": "display_data",
          "data": {
            "text/plain": [
              "<Figure size 648x648 with 9 Axes>"
            ],
            "image/png": "[encoded data removed]"
          },
          "metadata": {
            "needs_background": "light"
          }
        }
      ]
    },
    {
      "cell_type": "markdown",
      "source": [
        "> How does increasing the batch size to 10,000 affect the training time and test accuracy?\n",
        "\n",
        "* The models trained with **large batch sizes will drop the generalizing ability of the network on the validation set**.\n",
        "* The **batch size of 10,000** will create a **very sharp loss landscape (sharp minimizers)**.\n",
        "\n",
        "\n",
        "\n",
        "\n",
        "> How about a batch size of 32?\n",
        "\n",
        "* The models trained with **small batch sizes generalize well on the validation set**. \n",
        "* The **batch size of 32** gives us the best result which consistently converge to **flatter landscapes (flat minimizers)**\n",
        "\n",
        "---\n",
        "\n",
        "**Gradient descent-based optimization makes linear approximation to the cost function. However if the cost function is highly non-linear (highly curved) then the approximation will not be very good, hence small batch sizes are safe**.\n",
        "\n",
        "---\n",
        "\n"
      ],
      "metadata": {
        "id": "DfhCHEMr9NdW"
      }
    },
    {
      "cell_type": "markdown",
      "source": [
        "# Building a \"Deep\" Convolutional Neural Network (CNN)\n",
        "\n",
        "## Introducing Convolution!\n",
        "Before, we built a network that accepts the normalized pixel values of each value and operates soley on those values. What if we could instead feed different features (e.g. curvature, edges) of each image into a network, and have the network learn which features are important for classifying an image?\n",
        "\n",
        "This possible through convolution! Convolution applies kernels (filters) that traverse through each image and generate feature maps.\n",
        "\n",
        "If the image is a 5 x 5 matrix and the kernel going over it is a 3 x 3 matrix. A dot product operation takes place between the image and the kernel and the convolved feature is generated. Each kernel in a CNN learns a different characteristic of an image.\n",
        "\n",
        "Kernels are often used in photoediting software to apply blurring, edge detection, sharpening, etc.\n",
        "\n",
        "Kernels in deep learning networks are used in similar ways, i.e. highlighting some feature. Combined with a system called max pooling, the non-highlighted elements are discarded from each feature map, leaving only the features of interest, reducing the number of learned parameters, and decreasing the computational cost (e.g. system memory).\n",
        "\n",
        "We can also take convolutions of convolutions -- we can stack as many convolutions as we want, as long as there are enough pixels to fit a kernel.\n",
        "\n",
        "*Warning: What you may find down there in those deep convolutions may not appear recognizable to you.*"
      ],
      "metadata": {
        "id": "0-xWIMIynrmX"
      }
    },
    {
      "cell_type": "code",
      "source": [
        "# import some additional tools\n",
        "\n",
        "from keras.preprocessing.image import ImageDataGenerator\n",
        "from keras.layers import Conv2D, MaxPooling2D, ZeroPadding2D, GlobalAveragePooling2D, Flatten\n",
        "from tensorflow.keras.layers import BatchNormalization"
      ],
      "metadata": {
        "id": "sCGKEB3I81ns"
      },
      "execution_count": null,
      "outputs": []
    },
    {
      "cell_type": "code",
      "source": [
        "# Reload the MNIST data\n",
        "(X_train, y_train), (X_test, y_test) = mnist.load_data()\n",
        "print(\"X_train shape\", X_train.shape)\n",
        "print(\"y_train shape\", y_train.shape)\n",
        "print(\"X_test shape\", X_test.shape)\n",
        "print(\"y_test shape\", y_test.shape)"
      ],
      "metadata": {
        "id": "nWyMPLABAase",
        "colab": {
          "base_uri": "https://localhost:8080/"
        },
        "outputId": "37c4bac1-b6c4-4a7f-871d-d0f6b2347b13"
      },
      "execution_count": null,
      "outputs": [
        {
          "output_type": "stream",
          "name": "stdout",
          "text": [
            "X_train shape (60000, 28, 28)\n",
            "y_train shape (60000,)\n",
            "X_test shape (10000, 28, 28)\n",
            "y_test shape (10000,)\n"
          ]
        }
      ]
    },
    {
      "cell_type": "markdown",
      "source": [
        " We build our network without flattening to a 784-length vector. Instead, performing as 28 x 28 matrices with additional dimension 1 to represent the single channel because of gray scale images."
      ],
      "metadata": {
        "id": "NbV-k6zDoTxY"
      }
    },
    {
      "cell_type": "code",
      "source": [
        "# Again, do some formatting\n",
        "# Except we do not flatten each image into a 784-length vector because we want to perform convolutions first\n",
        "\n",
        "X_train = X_train.reshape(60000, 28, 28, 1) #add an additional dimension to represent the single-channel\n",
        "X_test = X_test.reshape(10000, 28, 28, 1)\n",
        "\n",
        "X_train = X_train.astype('float32')         # change integers to 32-bit floating point numbers\n",
        "X_test = X_test.astype('float32')\n",
        "\n",
        "X_train /= 255                              # normalize each value for each pixel for the entire vector for each input\n",
        "X_test /= 255\n",
        "\n",
        "print(\"Training matrix shape\", X_train.shape)\n",
        "print(\"Testing matrix shape\", X_test.shape)"
      ],
      "metadata": {
        "colab": {
          "base_uri": "https://localhost:8080/"
        },
        "id": "r2qn4xmhRREy",
        "outputId": "8c6192d5-b7d1-4480-cebb-b2fee4d9b874"
      },
      "execution_count": null,
      "outputs": [
        {
          "output_type": "stream",
          "name": "stdout",
          "text": [
            "Training matrix shape (60000, 28, 28, 1)\n",
            "Testing matrix shape (10000, 28, 28, 1)\n"
          ]
        }
      ]
    },
    {
      "cell_type": "markdown",
      "source": [
        "## One-hot encoding\n",
        "\n",
        "The step follows the same as per the first model."
      ],
      "metadata": {
        "id": "gj1W8YfkpbBz"
      }
    },
    {
      "cell_type": "code",
      "source": [
        "# one-hot format classes\n",
        "\n",
        "nb_classes = 10 # number of unique digits\n",
        "\n",
        "Y_train = np_utils.to_categorical(y_train, nb_classes)\n",
        "Y_test = np_utils.to_categorical(y_test, nb_classes)"
      ],
      "metadata": {
        "id": "adaddJpLRflR"
      },
      "execution_count": null,
      "outputs": []
    },
    {
      "cell_type": "markdown",
      "source": [
        "## Model Building\n",
        "\n",
        "The `Sequential` model definition takes a list of layers as an argument, specifying the calculation order from the input to the output."
      ],
      "metadata": {
        "id": "Wqukdj5DpnBk"
      }
    },
    {
      "cell_type": "code",
      "source": [
        "model_2 = Sequential()                                 # Linear stacking of layers"
      ],
      "metadata": {
        "id": "c8OracpvRjP6"
      },
      "execution_count": null,
      "outputs": []
    },
    {
      "cell_type": "markdown",
      "source": [
        "## The First convolution layer"
      ],
      "metadata": {
        "id": "nR5WpAV8p0ZI"
      }
    },
    {
      "cell_type": "markdown",
      "source": [
        "`Conv2D` is a **2D Convolution Layer**, this layer creates a convolution kernel that is wind with layers input which helps produce a tensor of outputs.\n",
        "\n",
        "> **Kernel (Filter/Feature Detector):** In image processing kernel is a convolution matrix or masks which can be used for blurring, sharpening, embossing, edge detection, and more by doing a convolution between a kernel and an image.\n",
        "\n",
        "Let's explore the parameters of the Conv2D which has the following arguments:\n",
        "\n",
        "* `Filters = 32` is the learning of a total of 32 filters that the convolution layers will learn from (determines the number of output filters in the convolution).\n",
        "\n",
        "* `kernel_size = (3, 3)` which determines the dimensions of the kernel. It specifies the height and width of the 2D convolution window. This parameter must be an odd integer.\n",
        "\n",
        "* `input_shape=(28,28,1)` is passed as we created."
      ],
      "metadata": {
        "id": "ue8VXvFLp9As"
      }
    },
    {
      "cell_type": "code",
      "source": [
        "# Convolution Layer 1\n",
        "model_2.add(Conv2D(32, (3, 3), input_shape=(28,28,1))) # 32 different 3x3 kernels -- so 32 feature maps # 1 - is a channel"
      ],
      "metadata": {
        "id": "mKMAkiDKSCEi"
      },
      "execution_count": null,
      "outputs": []
    },
    {
      "cell_type": "markdown",
      "source": [
        "`BatchNormalization` allows each layer of a network to learn by itself a little bit more independently of other layers. It adds two trainable parameters to each layer, so the normalized output is multiplied by a \"standard deviation\" parameter (gamma) and add a \"mean\" parameter (beta).\n",
        "\n",
        "Batch Normalization reduces overfitting because it has a slight regularization effects. Similar to dropout, it adds some noise to each hidden layer's activations. Therefore, if we use batch normalizaion, we will use less dropout, which is a good thing because we are not going to lose a lot of information. However, we should not depend only on batch normalizaion for regularization; we should better use it together with dropout.\n",
        "\n",
        "* Makes weights easier to initialize\n",
        "* Makes more activation functions viable\n",
        "* Simplifies the creation of deeper networks.\n",
        "\n",
        "**This Layer that normalizes its inputs.** Batch normalization applies a transformation that maintains the mean output close to 0 and the output standard deviation close to 1.\n",
        "\n",
        "> Initialize the model along with the input shape to be and the channels dimension itself. That is here, `input_shape = (28, 28, 1)` - the width, height and depth parameters that affects the volume shape. For single channel is specified which is set as `axis = -1`, the depth which is taken into BatchNormalization."
      ],
      "metadata": {
        "id": "U4_twPbRTZPV"
      }
    },
    {
      "cell_type": "code",
      "source": [
        "model_2.add(BatchNormalization(axis=-1))               # normalize each feature map before activation"
      ],
      "metadata": {
        "id": "9ZMQP4YqSXJc"
      },
      "execution_count": null,
      "outputs": []
    },
    {
      "cell_type": "markdown",
      "source": [
        "`Relu`activation function is added into this layer."
      ],
      "metadata": {
        "id": "8ByBiIF7x-rK"
      }
    },
    {
      "cell_type": "code",
      "source": [
        "convLayer01 = Activation('relu')                     # activation"
      ],
      "metadata": {
        "id": "hS0ZOMvnSj8T"
      },
      "execution_count": null,
      "outputs": []
    },
    {
      "cell_type": "code",
      "source": [
        "model_2.add(convLayer01)"
      ],
      "metadata": {
        "id": "poO6kzdcThu9"
      },
      "execution_count": null,
      "outputs": []
    },
    {
      "cell_type": "markdown",
      "source": [
        "## The Second convolution layer"
      ],
      "metadata": {
        "id": "d2PP9UUEyCgu"
      }
    },
    {
      "cell_type": "markdown",
      "source": [
        "`Conv2D` layer of **32 filters** and **3 x 3 kernel size** is used in this second convolution layer."
      ],
      "metadata": {
        "id": "_8utyaBtyJ1g"
      }
    },
    {
      "cell_type": "code",
      "source": [
        "# Convolution Layer 2\n",
        "model_2.add(Conv2D(32, (3, 3)))                        # 32 different 3x3 kernels -- so 32 feature maps"
      ],
      "metadata": {
        "id": "Jh76N9eRTiTs"
      },
      "execution_count": null,
      "outputs": []
    },
    {
      "cell_type": "markdown",
      "source": [
        "Batch Normalizing of the filters before activation function"
      ],
      "metadata": {
        "id": "6nA21cfDyeeB"
      }
    },
    {
      "cell_type": "code",
      "source": [
        "model_2.add(BatchNormalization(axis=-1))               # normalize each feature map before activation"
      ],
      "metadata": {
        "id": "_Z4lXiWrTyqO"
      },
      "execution_count": null,
      "outputs": []
    },
    {
      "cell_type": "markdown",
      "source": [
        "`Relu` activation function is used in this layer."
      ],
      "metadata": {
        "id": "dgey3Twzytyr"
      }
    },
    {
      "cell_type": "code",
      "source": [
        "model_2.add(Activation('relu'))                        # activation"
      ],
      "metadata": {
        "id": "1yyp9GaxT0bL"
      },
      "execution_count": null,
      "outputs": []
    },
    {
      "cell_type": "markdown",
      "source": [
        "Using `MaxPooling2D` to reduce the spatial dimensions (height and width) of the output volume by taking the maximum value over an input window of `pool_size = 2 x 2`, with default `strides = None`."
      ],
      "metadata": {
        "id": "iUHyxbUjy5n5"
      }
    },
    {
      "cell_type": "code",
      "source": [
        "convLayer02 = MaxPooling2D(pool_size=(2,2))          # Pool the max values over a 2x2 kernel"
      ],
      "metadata": {
        "id": "mfg0ShLZT2Tc"
      },
      "execution_count": null,
      "outputs": []
    },
    {
      "cell_type": "code",
      "source": [
        "model_2.add(convLayer02)"
      ],
      "metadata": {
        "id": "iCTk-VPXT4AJ"
      },
      "execution_count": null,
      "outputs": []
    },
    {
      "cell_type": "markdown",
      "source": [
        "## The third convolution layer\n",
        "\n",
        "Proceeding with same procedure by adding:\n",
        "* `Conv2D` layer of **64 filters** and **3 x 3 kernel size** is used in this third convolution layer.\n",
        "\n",
        "* `BatchNormalization` performance on each feature map\n",
        "* `Relu` activation function is used in this layer."
      ],
      "metadata": {
        "id": "kk_e0dKy0FzR"
      }
    },
    {
      "cell_type": "code",
      "source": [
        "# Convolution Layer 3\n",
        "model_2.add(Conv2D(64,(3, 3)))                         # 64 different 3x3 kernels -- so 64 feature maps\n",
        "model_2.add(BatchNormalization(axis=-1))               # normalize each feature map before activation\n",
        "convLayer03 = Activation('relu')                     # activation\n",
        "model_2.add(convLayer03)"
      ],
      "metadata": {
        "id": "zS7FnQNsT4Sq"
      },
      "execution_count": null,
      "outputs": []
    },
    {
      "cell_type": "markdown",
      "source": [
        "## The fourth convolution layer\n",
        "\n",
        "Proceeding with same procedure by adding:\n",
        "* `Conv2D` layer of **64 filters** and **3 x 3 kernel size** is used in this third convolution layer.\n",
        "\n",
        "* `BatchNormalization` performance on each feature map\n",
        "* `Relu` activation function is used in this layer.\n",
        "* `MaxPooling2D` over the `pool_size` as **2 x 2**\n",
        "\n",
        "* `Flatten` the 2D matrix of this maxpooled layer as `4 x 4 x 64` which arises to 1024 vector length"
      ],
      "metadata": {
        "id": "1gXSEpJs0qVd"
      }
    },
    {
      "cell_type": "code",
      "source": [
        "# Convolution Layer 4\n",
        "model_2.add(Conv2D(64, (3, 3)))                        # 64 different 3x3 kernels -- so 64 feature maps\n",
        "model_2.add(BatchNormalization(axis=-1))               # normalize each feature map before activation\n",
        "model_2.add(Activation('relu'))                        # activation\n",
        "convLayer04 = MaxPooling2D(pool_size=(2,2))          # Pool the max values over a 2x2 kernel\n",
        "model_2.add(convLayer04)\n",
        "model_2.add(Flatten())                                 # Flatten final 4x4x64 output matrix into a 1024-length vector"
      ],
      "metadata": {
        "id": "9vMSyDARUDqQ"
      },
      "execution_count": null,
      "outputs": []
    },
    {
      "cell_type": "markdown",
      "source": [
        "## Fully connected 5th layer\n",
        "\n",
        "Performing the same process of dense layer and others.\n"
      ],
      "metadata": {
        "id": "oX51YANS2Fjn"
      }
    },
    {
      "cell_type": "code",
      "source": [
        "# Fully Connected Layer 5\n",
        "model_2.add(Dense(512))                                # 512 FCN nodes\n",
        "model_2.add(BatchNormalization())                      # normalization\n",
        "model_2.add(Activation('relu'))                        # activation"
      ],
      "metadata": {
        "id": "ab0UxRnBUPzM"
      },
      "execution_count": null,
      "outputs": []
    },
    {
      "cell_type": "markdown",
      "source": [
        "## Fully connected 6th layer\n",
        "\n",
        "Performing the same process as per final output layer in the first model (`model_1`)\n",
        "\n"
      ],
      "metadata": {
        "id": "MONfHJYO2zrB"
      }
    },
    {
      "cell_type": "code",
      "source": [
        "# Fully Connected Layer 6                       \n",
        "model_2.add(Dropout(0.2))                              # 20% dropout of randomly selected nodes\n",
        "model_2.add(Dense(10))                                 # final 10 FCN nodes\n",
        "model_2.add(Activation('softmax'))                     # softmax activation"
      ],
      "metadata": {
        "id": "BjW6As2uWBn8"
      },
      "execution_count": null,
      "outputs": []
    },
    {
      "cell_type": "markdown",
      "source": [
        "## Summary of the CNN Model"
      ],
      "metadata": {
        "id": "YogEDwNrsbdA"
      }
    },
    {
      "cell_type": "markdown",
      "source": [
        "## **Question:** Here, in this code cell, I am aware of how trainable params occurs and how it's calculated. \n",
        "## Non-trainable params occurs after adding Batch Normalization layer. Under What basis this parameters occur? How this is calculated? "
      ],
      "metadata": {
        "id": "haiZV_Y6xWN9"
      }
    },
    {
      "cell_type": "code",
      "source": [
        "model_2.summary()"
      ],
      "metadata": {
        "colab": {
          "base_uri": "https://localhost:8080/"
        },
        "id": "7Cvh5mHFUn4B",
        "outputId": "7d654060-32a5-4da2-b604-fcaca4330a23"
      },
      "execution_count": null,
      "outputs": [
        {
          "output_type": "stream",
          "name": "stdout",
          "text": [
            "Model: \"sequential_3\"\n",
            "_________________________________________________________________\n",
            " Layer (type)                Output Shape              Param #   \n",
            "=================================================================\n",
            " conv2d_4 (Conv2D)           (None, 26, 26, 32)        320       \n",
            "                                                                 \n",
            " batch_normalization_5 (Batc  (None, 26, 26, 32)       128       \n",
            " hNormalization)                                                 \n",
            "                                                                 \n",
            " activation_12 (Activation)  (None, 26, 26, 32)        0         \n",
            "                                                                 \n",
            " conv2d_5 (Conv2D)           (None, 24, 24, 32)        9248      \n",
            "                                                                 \n",
            " batch_normalization_6 (Batc  (None, 24, 24, 32)       128       \n",
            " hNormalization)                                                 \n",
            "                                                                 \n",
            " activation_13 (Activation)  (None, 24, 24, 32)        0         \n",
            "                                                                 \n",
            " max_pooling2d_2 (MaxPooling  (None, 12, 12, 32)       0         \n",
            " 2D)                                                             \n",
            "                                                                 \n",
            " conv2d_6 (Conv2D)           (None, 10, 10, 64)        18496     \n",
            "                                                                 \n",
            " batch_normalization_7 (Batc  (None, 10, 10, 64)       256       \n",
            " hNormalization)                                                 \n",
            "                                                                 \n",
            " activation_14 (Activation)  (None, 10, 10, 64)        0         \n",
            "                                                                 \n",
            " conv2d_7 (Conv2D)           (None, 8, 8, 64)          36928     \n",
            "                                                                 \n",
            " batch_normalization_8 (Batc  (None, 8, 8, 64)         256       \n",
            " hNormalization)                                                 \n",
            "                                                                 \n",
            " activation_15 (Activation)  (None, 8, 8, 64)          0         \n",
            "                                                                 \n",
            " max_pooling2d_3 (MaxPooling  (None, 4, 4, 64)         0         \n",
            " 2D)                                                             \n",
            "                                                                 \n",
            " flatten_2 (Flatten)         (None, 1024)              0         \n",
            "                                                                 \n",
            " flatten_3 (Flatten)         (None, 1024)              0         \n",
            "                                                                 \n",
            " dense_8 (Dense)             (None, 512)               524800    \n",
            "                                                                 \n",
            " batch_normalization_9 (Batc  (None, 512)              2048      \n",
            " hNormalization)                                                 \n",
            "                                                                 \n",
            " activation_16 (Activation)  (None, 512)               0         \n",
            "                                                                 \n",
            " dropout_5 (Dropout)         (None, 512)               0         \n",
            "                                                                 \n",
            " dense_9 (Dense)             (None, 10)                5130      \n",
            "                                                                 \n",
            " activation_17 (Activation)  (None, 10)                0         \n",
            "                                                                 \n",
            "=================================================================\n",
            "Total params: 597,738\n",
            "Trainable params: 596,330\n",
            "Non-trainable params: 1,408\n",
            "_________________________________________________________________\n"
          ]
        }
      ]
    },
    {
      "cell_type": "markdown",
      "source": [
        "Here, the parameters are calculated in the following way:\n",
        "\n",
        "**Output size=((input size−kernel size)+2*padding)/stridecount)+1**"
      ],
      "metadata": {
        "id": "KTVEKT39gcJ_"
      }
    },
    {
      "cell_type": "markdown",
      "source": [
        "## Compiling the second model"
      ],
      "metadata": {
        "id": "X4cqNlgA54SI"
      }
    },
    {
      "cell_type": "code",
      "source": [
        "# we'll use the same optimizer\n",
        "\n",
        "model_2.compile(loss='categorical_crossentropy', optimizer='adam', metrics=['accuracy'])"
      ],
      "metadata": {
        "id": "N-JIvEhsUt_v"
      },
      "execution_count": null,
      "outputs": []
    },
    {
      "cell_type": "code",
      "source": [
        "# data augmentation prevents overfitting by slightly changing the data randomly\n",
        "# Keras has a great built-in feature to do automatic augmentation\n",
        "\n",
        "gen = ImageDataGenerator(rotation_range=8, width_shift_range=0.08, shear_range=0.3,\n",
        "                         height_shift_range=0.08, zoom_range=0.08)\n",
        "\n",
        "test_gen = ImageDataGenerator()"
      ],
      "metadata": {
        "id": "9pVOBtvqU2tU"
      },
      "execution_count": null,
      "outputs": []
    },
    {
      "cell_type": "code",
      "source": [
        "# We can then feed our augmented data in batches\n",
        "# Besides loss function considerations as before, this method actually results in significant memory savings\n",
        "# because we are actually LOADING the data into the network in batches before processing each batch\n",
        "\n",
        "# Before the data was all loaded into memory, but then processed in batches.\n",
        "\n",
        "train_generator = gen.flow(X_train, Y_train, batch_size=128)\n",
        "test_generator = test_gen.flow(X_test, Y_test, batch_size=128)"
      ],
      "metadata": {
        "id": "rMO73YbgU5ff"
      },
      "execution_count": null,
      "outputs": []
    },
    {
      "cell_type": "code",
      "source": [
        "# We can now train our model which is fed data by our batch loader\n",
        "# Steps per epoch should always be total size of the set divided by the batch size\n",
        "\n",
        "# SIGNIFICANT MEMORY SAVINGS (important for larger, deeper networks)\n",
        "\n",
        "model_2.fit_generator(train_generator, steps_per_epoch=60000//128, \n",
        "                    epochs=5, verbose=1, \n",
        "                    validation_data=test_generator, validation_steps=10000//128)"
      ],
      "metadata": {
        "colab": {
          "base_uri": "https://localhost:8080/"
        },
        "id": "1Y__UlfHYqxX",
        "outputId": "ccf03d9a-0492-42c2-cf48-a05765aabd17"
      },
      "execution_count": null,
      "outputs": [
        {
          "output_type": "stream",
          "name": "stdout",
          "text": [
            "Epoch 1/5\n"
          ]
        },
        {
          "output_type": "stream",
          "name": "stderr",
          "text": [
            "/usr/local/lib/python3.7/dist-packages/ipykernel_launcher.py:8: UserWarning: `Model.fit_generator` is deprecated and will be removed in a future version. Please use `Model.fit`, which supports generators.\n",
            "  \n"
          ]
        },
        {
          "output_type": "stream",
          "name": "stdout",
          "text": [
            "468/468 [==============================] - 216s 459ms/step - loss: 0.1297 - accuracy: 0.9602 - val_loss: 0.1027 - val_accuracy: 0.9655\n",
            "Epoch 2/5\n",
            "468/468 [==============================] - 213s 456ms/step - loss: 0.0482 - accuracy: 0.9847 - val_loss: 0.0351 - val_accuracy: 0.9895\n",
            "Epoch 3/5\n",
            "468/468 [==============================] - 198s 423ms/step - loss: 0.0401 - accuracy: 0.9876 - val_loss: 0.0334 - val_accuracy: 0.9891\n",
            "Epoch 4/5\n",
            "468/468 [==============================] - 208s 444ms/step - loss: 0.0345 - accuracy: 0.9893 - val_loss: 0.0295 - val_accuracy: 0.9905\n",
            "Epoch 5/5\n",
            "468/468 [==============================] - 221s 472ms/step - loss: 0.0309 - accuracy: 0.9907 - val_loss: 0.0178 - val_accuracy: 0.9936\n"
          ]
        },
        {
          "output_type": "execute_result",
          "data": {
            "text/plain": [
              "<keras.callbacks.History at 0x7f1560264990>"
            ]
          },
          "metadata": {},
          "execution_count": 98
        }
      ]
    },
    {
      "cell_type": "markdown",
      "source": [
        "## Evaluate Model's Accuracy on Test Data\n",
        "\n"
      ],
      "metadata": {
        "id": "ZwLLkBxBs79B"
      }
    },
    {
      "cell_type": "code",
      "source": [
        "score = model_2.evaluate(X_test, Y_test)\n",
        "print('Test score:', score[0])\n",
        "print('Test accuracy:', score[1])"
      ],
      "metadata": {
        "colab": {
          "base_uri": "https://localhost:8080/"
        },
        "id": "SiZeOwjfYwpe",
        "outputId": "5c9e7be3-c3cb-433c-82d7-1caeebd8ce6c"
      },
      "execution_count": null,
      "outputs": [
        {
          "output_type": "stream",
          "name": "stdout",
          "text": [
            "313/313 [==============================] - 9s 29ms/step - loss: 0.0178 - accuracy: 0.9936\n",
            "Test score: 0.01778857782483101\n",
            "Test accuracy: 0.9936000108718872\n"
          ]
        }
      ]
    },
    {
      "cell_type": "markdown",
      "source": [
        "## Inspecting the Output"
      ],
      "metadata": {
        "id": "O5wsLfkutCOg"
      }
    },
    {
      "cell_type": "code",
      "source": [
        "# The predict_classes function \n",
        "# according to the trained classifier for each input example\n",
        "predict_x = model_2.predict(X_test)\n",
        "predict_classes = np.argmax(predict_x, axis = 1)\n",
        "\n",
        "# Check with items we got right / wrong\n",
        "correct_indices = np.nonzero(predict_classes == y_test)[0]\n",
        "\n",
        "incorrect_indices = np.nonzero(predict_classes != y_test)[0]"
      ],
      "metadata": {
        "id": "rLB9HxuSdHOG",
        "colab": {
          "base_uri": "https://localhost:8080/"
        },
        "outputId": "81860eb1-94a0-43d5-ef5b-e936b9c6afd2"
      },
      "execution_count": null,
      "outputs": [
        {
          "output_type": "stream",
          "name": "stdout",
          "text": [
            "313/313 [==============================] - 12s 39ms/step\n"
          ]
        }
      ]
    },
    {
      "cell_type": "code",
      "source": [
        "correct_indices"
      ],
      "metadata": {
        "colab": {
          "base_uri": "https://localhost:8080/"
        },
        "id": "29jYCUqFj4ln",
        "outputId": "28ab4014-584d-4e8e-b97b-6efd9a0ad0d4"
      },
      "execution_count": null,
      "outputs": [
        {
          "output_type": "execute_result",
          "data": {
            "text/plain": [
              "array([   0,    1,    2, ..., 9997, 9998, 9999])"
            ]
          },
          "metadata": {},
          "execution_count": 106
        }
      ]
    },
    {
      "cell_type": "code",
      "source": [
        "incorrect_indices"
      ],
      "metadata": {
        "colab": {
          "base_uri": "https://localhost:8080/"
        },
        "id": "8gP5vIv3j9MA",
        "outputId": "e52090f8-ac83-4825-8070-8ae6f116ef77"
      },
      "execution_count": null,
      "outputs": [
        {
          "output_type": "execute_result",
          "data": {
            "text/plain": [
              "array([ 115,  193,  449,  583,  659,  674,  716,  717,  726,  938,  947,\n",
              "       1014, 1232, 1247, 1438, 1459, 1621, 1790, 1878, 1901, 2018, 2035,\n",
              "       2130, 2280, 2326, 2329, 2414, 2654, 2771, 3023, 3062, 3073, 3225,\n",
              "       3266, 3600, 3808, 4065, 4163, 4176, 4443, 4507, 4699, 4879, 4943,\n",
              "       5165, 5955, 6101, 6532, 6558, 6576, 6597, 6625, 7216, 7354, 7565,\n",
              "       7856, 7928, 8325, 8376, 8382, 9664, 9679, 9692, 9729])"
            ]
          },
          "metadata": {},
          "execution_count": 107
        }
      ]
    },
    {
      "cell_type": "code",
      "source": [
        "plt.figure()\n",
        "for i, correct in enumerate(correct_indices[:9]):\n",
        "  plt.subplot(3,3,i+1)\n",
        "  plt.imshow(X_test[correct].reshape(28,28), cmap='gray', interpolation='none')\n",
        "  plt.title(\"Predicted {}, Class {}\".format(predict_classes[correct], y_test[correct]))\n",
        "    \n",
        "plt.tight_layout()\n",
        "plt.show();\n",
        "\n",
        "plt.figure()\n",
        "for i, incorrect in enumerate(incorrect_indices[:9]):\n",
        "    plt.subplot(3,3,i+1)\n",
        "    plt.imshow(X_test[incorrect].reshape(28,28), cmap='gray', interpolation='none')\n",
        "    plt.title(\"Predicted {}, Class {}\".format(predict_classes[incorrect], y_test[incorrect]))\n",
        "    \n",
        "plt.tight_layout()\n",
        "plt.show();"
      ],
      "metadata": {
        "colab": {
          "base_uri": "https://localhost:8080/",
          "height": 1000
        },
        "id": "wA2SwS-NWAAQ",
        "outputId": "09be9130-14de-4116-9ee5-0445b3f8232c"
      },
      "execution_count": null,
      "outputs": [
        {
          "output_type": "display_data",
          "data": {
            "text/plain": [
              "<Figure size 648x648 with 9 Axes>"
            ],
            "image/png": "[encoded data removed]"
          },
          "metadata": {
            "needs_background": "light"
          }
        },
        {
          "output_type": "display_data",
          "data": {
            "text/plain": [
              "<Figure size 648x648 with 9 Axes>"
            ],
            "image/png": "[encoded data removed]"
          },
          "metadata": {
            "needs_background": "light"
          }
        }
      ]
    },
    {
      "cell_type": "code",
      "source": [],
      "metadata": {
        "id": "kRszYjLxWPy3"
      },
      "execution_count": null,
      "outputs": []
    }
  ]
}